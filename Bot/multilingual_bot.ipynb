{
 "cells": [
  {
   "cell_type": "code",
   "execution_count": 226,
   "metadata": {},
   "outputs": [],
   "source": [
    "import os\n",
    "from dotenv import load_dotenv\n",
    "load_dotenv()\n",
    "\n",
    "open_api_key = os.getenv(\"OPENAI_API_KEY\")\n",
    "SUPABASE_URL = os.getenv(\"SUPABASE_URL\")\n",
    "SUPABASE_KEY = os.getenv(\"SUPABASE_KEY\")\n"
   ]
  },
  {
   "cell_type": "code",
   "execution_count": 227,
   "metadata": {},
   "outputs": [],
   "source": [
    "from langchain_openai import ChatOpenAI\n",
    "\n",
    "model = ChatOpenAI(api_key=open_api_key,model = \"gpt-3.5-turbo\")\n"
   ]
  },
  {
   "cell_type": "code",
   "execution_count": 228,
   "metadata": {},
   "outputs": [],
   "source": [
    "#creating supabase client\n",
    "supabase = create_client(SUPABASE_URL, SUPABASE_KEY)"
   ]
  },
  {
   "cell_type": "code",
   "execution_count": 229,
   "metadata": {},
   "outputs": [
    {
     "name": "stdout",
     "output_type": "stream",
     "text": [
      "content=\"Hello Sanatan! It's great to hear about your specialization in AI/ML and major in CS. How has your experience been in these fields so far?\" additional_kwargs={'refusal': None} response_metadata={'token_usage': {'completion_tokens': 33, 'prompt_tokens': 41, 'total_tokens': 74, 'completion_tokens_details': {'accepted_prediction_tokens': 0, 'audio_tokens': 0, 'reasoning_tokens': 0, 'rejected_prediction_tokens': 0}, 'prompt_tokens_details': {'audio_tokens': 0, 'cached_tokens': 0}}, 'model_name': 'gpt-3.5-turbo-0125', 'system_fingerprint': None, 'finish_reason': 'stop', 'logprobs': None} id='run-7a4434a4-0dfa-4b53-a0ad-a8a0a8e1f112-0' usage_metadata={'input_tokens': 41, 'output_tokens': 33, 'total_tokens': 74, 'input_token_details': {'audio': 0, 'cache_read': 0}, 'output_token_details': {'audio': 0, 'reasoning': 0}}\n"
     ]
    }
   ],
   "source": [
    "from langchain_core.messages import HumanMessage\n",
    "response = model.invoke([HumanMessage(content=\"Hi, I am Sanatan Khemariya, a B.Tech 3rd year student specializing in micro degrees in AI/ML and majoring in CS.\")])\n",
    "\n",
    "print(response)"
   ]
  },
  {
   "cell_type": "code",
   "execution_count": 230,
   "metadata": {},
   "outputs": [
    {
     "data": {
      "text/plain": [
       "AIMessage(content='Of course! I can provide you with some tips on how to secure an internship in your field. Here are a few steps you can take:\\n\\n1. Update your resume: Make sure your resume highlights your relevant skills, experience, and coursework in AI/ML and Computer Science.\\n\\n2. Build a strong portfolio: Showcase any projects, research, or coding samples that demonstrate your abilities in AI/ML.\\n\\n3. Network: Reach out to professionals in your field through LinkedIn, networking events, and career fairs. They may be able to provide you with leads on internship opportunities.\\n\\n4. Apply to internship programs: Check job boards, company websites, and internship platforms for openings in AI/ML and Computer Science.\\n\\n5. Prepare for interviews: Practice common interview questions and be ready to discuss your technical skills and experiences.\\n\\nGood luck with your internship search! If you need any more assistance, feel free to ask.', additional_kwargs={'refusal': None}, response_metadata={'token_usage': {'completion_tokens': 184, 'prompt_tokens': 90, 'total_tokens': 274, 'completion_tokens_details': {'accepted_prediction_tokens': 0, 'audio_tokens': 0, 'reasoning_tokens': 0, 'rejected_prediction_tokens': 0}, 'prompt_tokens_details': {'audio_tokens': 0, 'cached_tokens': 0}}, 'model_name': 'gpt-3.5-turbo-0125', 'system_fingerprint': None, 'finish_reason': 'stop', 'logprobs': None}, id='run-71f2974b-5053-42a4-b639-8861ca04ab67-0', usage_metadata={'input_tokens': 90, 'output_tokens': 184, 'total_tokens': 274, 'input_token_details': {'audio': 0, 'cache_read': 0}, 'output_token_details': {'audio': 0, 'reasoning': 0}})"
      ]
     },
     "execution_count": 230,
     "metadata": {},
     "output_type": "execute_result"
    }
   ],
   "source": [
    "from langchain_core.messages import AIMessage\n",
    "model.invoke(\n",
    "    [\n",
    "        HumanMessage(content=\"Hi, I am Sanatan Khemariya, a B.Tech 3rd year student specializing in micro degrees in AI/ML and majoring in CS.\"),\n",
    "        AIMessage(content=\"Hello Sanatan! It's great to hear about your academic pursuits in AI/ML and Computer Science. How can I assist you today?\"),\n",
    "        HumanMessage(content=\"I am looking for an internship Can you help me with that?\"),\n",
    "    ]\n",
    ")"
   ]
  },
  {
   "cell_type": "code",
   "execution_count": 231,
   "metadata": {},
   "outputs": [],
   "source": [
    "#database function \n",
    "from supabase import create_client\n",
    "def save_message_to_supabase(session_id, role, message):\n",
    "    \"\"\"Stores chat messages in Supabase and prints response for debugging.\"\"\"\n",
    "    try:\n",
    "        data = {\n",
    "            \"session_id\": session_id,\n",
    "            \"role\": role,\n",
    "            \"message\": message,\n",
    "        }\n",
    "        response = supabase.table(\"history\").insert(data).execute()\n",
    "\n",
    "        # ✅ Debugging Output\n",
    "        print(\"Supabase API Response:\", response)  \n",
    "        return response\n",
    "    except Exception as e:\n",
    "        print(\"Supabase Error:\", e)\n",
    "        return None\n",
    "\n",
    "\n",
    "def get_chat_history(session_id):\n",
    "    \"\"\"Retrieves chat history from Supabase.\"\"\"\n",
    "    response = supabase.table(\"history\").select(\"*\").eq(\"session_id\", session_id).order(\"timestamp\", desc=False).execute()\n",
    "    return response.data"
   ]
  },
  {
   "cell_type": "code",
   "execution_count": 232,
   "metadata": {},
   "outputs": [],
   "source": [
    "#now creating history rememberance system for the chatbot (Message history)\n",
    "from langchain_community.chat_message_histories import ChatMessageHistory\n",
    "from langchain_core.chat_history import BaseChatMessageHistory\n",
    "from langchain_core.runnables.history import RunnableWithMessageHistory\n",
    "from langchain_core.messages import HumanMessage\n",
    "\n",
    "\n",
    "session_data = {}\n",
    "\n",
    "def get_session_history(session_id: str) -> ChatMessageHistory:\n",
    "    \"\"\"Retrieves or initializes chat history for a session.\"\"\"\n",
    "    if session_id not in session_data:\n",
    "        session_data[session_id] = {\n",
    "            \"history\": ChatMessageHistory(),  # ✅ Initializes new history\n",
    "            \"language\": \"English\"  # ✅ Default response language if not set\n",
    "        }\n",
    "    return session_data[session_id][\"history\"]\n",
    "\n",
    "def set_session_language(session_id: str, language: str = \"English\"):\n",
    "    \"\"\"Stores the preferred response language for a given session.\"\"\"\n",
    "    if session_id not in session_data:\n",
    "        session_data[session_id] = {\n",
    "            \"history\": ChatMessageHistory(),\n",
    "            \"language\": language\n",
    "        }\n",
    "    else:\n",
    "        # ✅ Only update language if explicitly provided\n",
    "        session_data[session_id][\"language\"] = language\n"
   ]
  },
  {
   "cell_type": "code",
   "execution_count": 233,
   "metadata": {},
   "outputs": [],
   "source": [
    "def invoke_with_language(session_id: str, messages, language=None):\n",
    "    \"\"\"Handles chatbot invocation while ensuring memory, history & language persistence.\"\"\"\n",
    "\n",
    "    # ✅ Retrieve session language or set default\n",
    "    if session_id not in session_data:\n",
    "        set_session_language(session_id, \"English\")\n",
    "\n",
    "    if language:\n",
    "        set_session_language(session_id, language)\n",
    "    else:\n",
    "        language = session_data[session_id][\"language\"]  \n",
    "\n",
    "    print(f\"🟢 Current session language: {session_data[session_id]['language']}\")  # ✅ Debugging\n",
    "\n",
    "    # ✅ Store user message in Supabase before calling chatbot\n",
    "    for msg in messages:\n",
    "        save_message_to_supabase(session_id, \"user\", msg.content)\n",
    "\n",
    "    # ✅ Retrieve stored messages from session history\n",
    "    existing_messages = session_data[session_id][\"history\"].messages\n",
    "\n",
    "    # ✅ Apply trimming BEFORE chatbot invocation\n",
    "    trimmed_messages = trimmer.invoke(existing_messages + messages)\n",
    "\n",
    "    # ✅ Replace session history with trimmed messages\n",
    "    session_data[session_id][\"history\"].messages = trimmed_messages  \n",
    "\n",
    "    # ✅ Invoke chatbot with proper language enforcement\n",
    "    response = with_message_history.invoke(\n",
    "        {\n",
    "            \"messages\": trimmed_messages,\n",
    "            \"language\": language  # ✅ Ensure language is included\n",
    "        },\n",
    "        config={\"configurable\": {\"session_id\": session_id}}\n",
    "    )\n",
    "\n",
    "    print(f\"🟢 Chatbot response language: {language}\")  # ✅ Debugging\n",
    "    print(f\"🟢 Chatbot raw response: {response.content}\")  # ✅ Debugging\n",
    "\n",
    "    # ✅ Store chatbot response in Supabase\n",
    "    save_message_to_supabase(session_id, \"assistant\", response.content)\n",
    "\n",
    "    # ✅ Store trimmed messages back to session to avoid memory overflow\n",
    "    session_data[session_id][\"history\"].messages = trimmed_messages  \n",
    "\n",
    "    return response\n"
   ]
  },
  {
   "cell_type": "code",
   "execution_count": 252,
   "metadata": {},
   "outputs": [],
   "source": [
    "#now doing memory management to remeber the content inside context window\n",
    "from langchain_core.runnables import RunnablePassthrough\n",
    "from operator import itemgetter\n",
    "from langchain_core.messages import SystemMessage, HumanMessage, AIMessage, trim_messages\n",
    "\n",
    "# ✅ Token counter function (basic approximation)\n",
    "def token_counter(messages):\n",
    "    \"\"\"Simple token counter using word count approximation.\"\"\"\n",
    "    return sum(len(msg.content.split()) for msg in messages)\n",
    "\n",
    "trimmer = trim_messages(\n",
    "    max_tokens=5000,\n",
    "    strategy = \"last\",\n",
    "    #include_last = True,\n",
    "    include_system = True,\n",
    "    allow_partial = False,\n",
    "    start_on = \"human\",\n",
    "    token_counter=token_counter,\n",
    ")"
   ]
  },
  {
   "cell_type": "code",
   "execution_count": 253,
   "metadata": {},
   "outputs": [],
   "source": [
    "from langchain_core.prompts import ChatPromptTemplate, MessagesPlaceholder\n",
    "\n",
    "prompt = ChatPromptTemplate.from_messages(\n",
    "    [\n",
    "        (\n",
    "            \"system\",\n",
    "            \"You are a helpful assistant. The user may ask in any language, \"\n",
    "            \"but you must always respond in {language}. **Never reply in a different language.**\"\n",
    "        ),\n",
    "        MessagesPlaceholder(variable_name=\"messages\"),\n",
    "    ]\n",
    ")\n"
   ]
  },
  {
   "cell_type": "code",
   "execution_count": 254,
   "metadata": {},
   "outputs": [],
   "source": [
    "chain = (\n",
    "    RunnablePassthrough.assign(messages=itemgetter(\"messages\") | trimmer)  #Trim messages before passing\n",
    "    | prompt\n",
    "    | model\n",
    ")"
   ]
  },
  {
   "cell_type": "code",
   "execution_count": 255,
   "metadata": {},
   "outputs": [],
   "source": [
    "from langchain_core.runnables.history import RunnableWithMessageHistory\n",
    "with_message_history = RunnableWithMessageHistory(chain, get_session_history, input_messages_key=\"messages\")\n",
    "\n"
   ]
  },
  {
   "cell_type": "code",
   "execution_count": 256,
   "metadata": {},
   "outputs": [],
   "source": [
    "config_1 = {\"configurable\": {\"session_id\": \"chat_1\"}} #testing with creating a session id"
   ]
  },
  {
   "cell_type": "code",
   "execution_count": 257,
   "metadata": {},
   "outputs": [
    {
     "name": "stdout",
     "output_type": "stream",
     "text": [
      "🟢 Current session language: English\n",
      "Supabase API Response: data=[{'id': '897c71de-52e4-4e22-a313-f227e7313ec3', 'session_id': 'chat_1', 'user_id': 'NULL', 'message': 'Hi, I am Bob.', 'role': 'user', 'timestamp': '2025-02-21T01:37:49.58461'}] count=None\n",
      "Supabase API Response: data=[{'id': '048d42f7-562e-4018-b52f-ed523c4949e9', 'session_id': 'chat_1', 'user_id': 'NULL', 'message': 'Hi Bob! How can I assist you today?', 'role': 'user', 'timestamp': '2025-02-21T01:37:49.643647'}] count=None\n",
      "Supabase API Response: data=[{'id': 'ac37f51d-56de-4948-87f1-5fe0ee41b24c', 'session_id': 'chat_1', 'user_id': 'NULL', 'message': 'Can you give me a cool and catchy nickname?', 'role': 'user', 'timestamp': '2025-02-21T01:37:49.700054'}] count=None\n",
      "🟢 Chatbot response language: English\n",
      "🟢 Chatbot raw response: Of course, Bob! How about \"Bobby Blaze\"?\n",
      "Supabase API Response: data=[{'id': '90ccca96-26d1-4096-8d46-cd3327aa9f4a', 'session_id': 'chat_1', 'user_id': 'NULL', 'message': 'Of course, Bob! How about \"Bobby Blaze\"?', 'role': 'assistant', 'timestamp': '2025-02-21T01:37:52.384604'}] count=None\n",
      "Chatbot Response: Of course, Bob! How about \"Bobby Blaze\"?\n"
     ]
    }
   ],
   "source": [
    "response = invoke_with_language(\n",
    "    session_id=\"chat_1\",\n",
    "    messages=[\n",
    "        HumanMessage(content=\"Hi, I am Bob.\"),\n",
    "        SystemMessage(content=\"Hi Bob! How can I assist you today?\"),  # ✅ Should be ignored\n",
    "        HumanMessage(content=\"Can you give me a cool and catchy nickname?\")\n",
    "    ],\n",
    "    language=\"English\"\n",
    ")\n",
    "\n",
    "print(\"Chatbot Response:\", response.content)"
   ]
  },
  {
   "cell_type": "code",
   "execution_count": 258,
   "metadata": {},
   "outputs": [
    {
     "name": "stdout",
     "output_type": "stream",
     "text": [
      "Response in English: Of course, Bob! How about \"Bobby Blaze\"?\n"
     ]
    }
   ],
   "source": [
    "print(\"Response in English:\", response.content)"
   ]
  },
  {
   "cell_type": "code",
   "execution_count": 259,
   "metadata": {},
   "outputs": [
    {
     "name": "stdout",
     "output_type": "stream",
     "text": [
      "🟢 Current session language: Hindi\n",
      "Supabase API Response: data=[{'id': '2d444476-45c8-413a-8666-45c0e27cf22f', 'session_id': 'chat_1', 'user_id': 'NULL', 'message': \"What's my name?\", 'role': 'user', 'timestamp': '2025-02-21T01:37:53.066955'}] count=None\n",
      "🟢 Chatbot response language: Hindi\n",
      "🟢 Chatbot raw response: आपका नाम बॉब है।\n",
      "Supabase API Response: data=[{'id': 'a044b011-2efa-4626-ae91-f0be856f588e', 'session_id': 'chat_1', 'user_id': 'NULL', 'message': 'आपका नाम बॉब है।', 'role': 'assistant', 'timestamp': '2025-02-21T01:37:57.370237'}] count=None\n",
      "Response in Hindi: आपका नाम बॉब है।\n"
     ]
    }
   ],
   "source": [
    "response = invoke_with_language(\n",
    "    session_id=\"chat_1\",\n",
    "    messages=[HumanMessage(content=\"What's my name?\")],\n",
    "    language=\"Hindi\"\n",
    ")\n",
    "\n",
    "print(\"Response in Hindi:\", response.content)"
   ]
  },
  {
   "cell_type": "code",
   "execution_count": 260,
   "metadata": {},
   "outputs": [
    {
     "name": "stdout",
     "output_type": "stream",
     "text": [
      "🟢 Current session language: English\n",
      "Supabase API Response: data=[{'id': '6bdd822d-03b2-4c48-8808-5da648e1a636', 'session_id': 'chat_1', 'user_id': 'NULL', 'message': 'Message 1: This is a long conversation testing memory management.', 'role': 'user', 'timestamp': '2025-02-21T01:37:59.361565'}] count=None\n",
      "🟢 Chatbot response language: English\n",
      "🟢 Chatbot raw response: I'm here to help! How can I assist you today?\n",
      "Supabase API Response: data=[{'id': '8566817e-2bb0-4932-840c-48e99c60c7f0', 'session_id': 'chat_1', 'user_id': 'NULL', 'message': \"I'm here to help! How can I assist you today?\", 'role': 'assistant', 'timestamp': '2025-02-21T01:38:01.220074'}] count=None\n",
      "🟢 Current session language: English\n",
      "Supabase API Response: data=[{'id': '4f87b2d7-0647-496c-8f73-de9e0d70f42d', 'session_id': 'chat_1', 'user_id': 'NULL', 'message': 'Message 2: This is a long conversation testing memory management.', 'role': 'user', 'timestamp': '2025-02-21T01:38:01.274985'}] count=None\n",
      "🟢 Chatbot response language: English\n",
      "🟢 Chatbot raw response: I'm here to help! How can I assist you today?\n",
      "Supabase API Response: data=[{'id': 'c3247466-49cf-4f7b-8f02-164ddbc64abe', 'session_id': 'chat_1', 'user_id': 'NULL', 'message': \"I'm here to help! How can I assist you today?\", 'role': 'assistant', 'timestamp': '2025-02-21T01:38:03.499414'}] count=None\n",
      "🟢 Current session language: English\n",
      "Supabase API Response: data=[{'id': '8da43bef-ad95-4e36-b11f-2062fe6168cb', 'session_id': 'chat_1', 'user_id': 'NULL', 'message': 'Message 3: This is a long conversation testing memory management.', 'role': 'user', 'timestamp': '2025-02-21T01:38:03.558867'}] count=None\n",
      "🟢 Chatbot response language: English\n",
      "🟢 Chatbot raw response: I'm here to help! How can I assist you today?\n",
      "Supabase API Response: data=[{'id': 'e7eb2f39-f84e-443d-8298-9ca14fe7ac2b', 'session_id': 'chat_1', 'user_id': 'NULL', 'message': \"I'm here to help! How can I assist you today?\", 'role': 'assistant', 'timestamp': '2025-02-21T01:38:05.694622'}] count=None\n",
      "🟢 Current session language: English\n",
      "Supabase API Response: data=[{'id': 'b0d4f871-0947-4085-9511-a6d2b01b1a83', 'session_id': 'chat_1', 'user_id': 'NULL', 'message': 'Message 4: This is a long conversation testing memory management.', 'role': 'user', 'timestamp': '2025-02-21T01:38:05.749593'}] count=None\n",
      "🟢 Chatbot response language: English\n",
      "🟢 Chatbot raw response: I'm here to help! How can I assist you today?\n",
      "Supabase API Response: data=[{'id': 'dd806bce-8359-4db6-8ebe-304251346577', 'session_id': 'chat_1', 'user_id': 'NULL', 'message': \"I'm here to help! How can I assist you today?\", 'role': 'assistant', 'timestamp': '2025-02-21T01:38:07.828143'}] count=None\n",
      "🟢 Current session language: English\n",
      "Supabase API Response: data=[{'id': '97728fdb-3003-488c-bae2-0f35b41ab4c8', 'session_id': 'chat_1', 'user_id': 'NULL', 'message': 'Message 5: This is a long conversation testing memory management.', 'role': 'user', 'timestamp': '2025-02-21T01:38:07.883141'}] count=None\n",
      "🟢 Chatbot response language: English\n",
      "🟢 Chatbot raw response: I'm here to help! How can I assist you today?\n",
      "Supabase API Response: data=[{'id': '4e4dc3f1-4132-4d6f-ae7c-b26f66925495', 'session_id': 'chat_1', 'user_id': 'NULL', 'message': \"I'm here to help! How can I assist you today?\", 'role': 'assistant', 'timestamp': '2025-02-21T01:38:09.890385'}] count=None\n",
      "🟢 Current session language: English\n",
      "Supabase API Response: data=[{'id': '6b07b034-d874-4e14-9aa5-395c3d41ca0c', 'session_id': 'chat_1', 'user_id': 'NULL', 'message': 'Message 6: This is a long conversation testing memory management.', 'role': 'user', 'timestamp': '2025-02-21T01:38:09.942424'}] count=None\n",
      "🟢 Chatbot response language: English\n",
      "🟢 Chatbot raw response: I'm here to help! How can I assist you today?\n",
      "Supabase API Response: data=[{'id': '80093440-ce01-41f7-9c59-c1903ba28ef6', 'session_id': 'chat_1', 'user_id': 'NULL', 'message': \"I'm here to help! How can I assist you today?\", 'role': 'assistant', 'timestamp': '2025-02-21T01:38:12.20044'}] count=None\n",
      "🟢 Current session language: English\n",
      "Supabase API Response: data=[{'id': 'c3d90bcc-70b8-4e1b-baa4-d503bd9650ae', 'session_id': 'chat_1', 'user_id': 'NULL', 'message': 'Message 7: This is a long conversation testing memory management.', 'role': 'user', 'timestamp': '2025-02-21T01:38:12.266426'}] count=None\n",
      "🟢 Chatbot response language: English\n",
      "🟢 Chatbot raw response: I'm here to help! How can I assist you today?\n",
      "Supabase API Response: data=[{'id': '741c242e-9502-4455-8559-4f6c4c78a42b', 'session_id': 'chat_1', 'user_id': 'NULL', 'message': \"I'm here to help! How can I assist you today?\", 'role': 'assistant', 'timestamp': '2025-02-21T01:38:14.480664'}] count=None\n",
      "🟢 Current session language: English\n",
      "Supabase API Response: data=[{'id': '156060ef-5632-4d8a-9633-550c8448d60d', 'session_id': 'chat_1', 'user_id': 'NULL', 'message': 'Message 8: This is a long conversation testing memory management.', 'role': 'user', 'timestamp': '2025-02-21T01:38:14.536435'}] count=None\n",
      "🟢 Chatbot response language: English\n",
      "🟢 Chatbot raw response: I'm here to help! How can I assist you today?\n",
      "Supabase API Response: data=[{'id': '07e1a074-af3b-48ec-b6de-650b3704289a', 'session_id': 'chat_1', 'user_id': 'NULL', 'message': \"I'm here to help! How can I assist you today?\", 'role': 'assistant', 'timestamp': '2025-02-21T01:38:16.521955'}] count=None\n",
      "🟢 Current session language: English\n",
      "Supabase API Response: data=[{'id': 'a4bd5428-442b-403f-a878-5b53ab3220b2', 'session_id': 'chat_1', 'user_id': 'NULL', 'message': 'Message 9: This is a long conversation testing memory management.', 'role': 'user', 'timestamp': '2025-02-21T01:38:16.574515'}] count=None\n",
      "🟢 Chatbot response language: English\n",
      "🟢 Chatbot raw response: I'm here to help! How can I assist you today?\n",
      "Supabase API Response: data=[{'id': '8729ce48-3e72-47c2-8a71-94b08cab3ea8', 'session_id': 'chat_1', 'user_id': 'NULL', 'message': \"I'm here to help! How can I assist you today?\", 'role': 'assistant', 'timestamp': '2025-02-21T01:38:18.682718'}] count=None\n",
      "🟢 Current session language: English\n",
      "Supabase API Response: data=[{'id': '11ca2818-115f-4a1c-9fc6-03d0ecb8b672', 'session_id': 'chat_1', 'user_id': 'NULL', 'message': 'Message 10: This is a long conversation testing memory management.', 'role': 'user', 'timestamp': '2025-02-21T01:38:18.757019'}] count=None\n",
      "🟢 Chatbot response language: English\n",
      "🟢 Chatbot raw response: I'm here to help! How can I assist you today?\n",
      "Supabase API Response: data=[{'id': 'f5893b70-ae56-4b67-a4c8-bb3a6292166a', 'session_id': 'chat_1', 'user_id': 'NULL', 'message': \"I'm here to help! How can I assist you today?\", 'role': 'assistant', 'timestamp': '2025-02-21T01:38:20.933515'}] count=None\n",
      "🟢 Current session language: English\n",
      "Supabase API Response: data=[{'id': 'c454d5e2-20dd-4304-88b5-db9cffa02e47', 'session_id': 'chat_1', 'user_id': 'NULL', 'message': 'Message 11: This is a long conversation testing memory management.', 'role': 'user', 'timestamp': '2025-02-21T01:38:20.984431'}] count=None\n",
      "🟢 Chatbot response language: English\n",
      "🟢 Chatbot raw response: I'm here to help! How can I assist you today?\n",
      "Supabase API Response: data=[{'id': '24c5464f-a56f-4dff-90cf-dcd0b8f13b5a', 'session_id': 'chat_1', 'user_id': 'NULL', 'message': \"I'm here to help! How can I assist you today?\", 'role': 'assistant', 'timestamp': '2025-02-21T01:38:23.388357'}] count=None\n",
      "🟢 Current session language: English\n",
      "Supabase API Response: data=[{'id': 'ec01d44f-33c8-443a-8d3a-66617e1ce103', 'session_id': 'chat_1', 'user_id': 'NULL', 'message': 'Message 12: This is a long conversation testing memory management.', 'role': 'user', 'timestamp': '2025-02-21T01:38:23.438674'}] count=None\n",
      "🟢 Chatbot response language: English\n",
      "🟢 Chatbot raw response: I'm here to help! How can I assist you today?\n",
      "Supabase API Response: data=[{'id': '181ae5ca-a469-44d3-bf30-ab9ad73715dc', 'session_id': 'chat_1', 'user_id': 'NULL', 'message': \"I'm here to help! How can I assist you today?\", 'role': 'assistant', 'timestamp': '2025-02-21T01:38:25.563475'}] count=None\n",
      "🟢 Current session language: English\n",
      "Supabase API Response: data=[{'id': '388607be-bee6-4857-bf86-288a1597c1f8', 'session_id': 'chat_1', 'user_id': 'NULL', 'message': 'Message 13: This is a long conversation testing memory management.', 'role': 'user', 'timestamp': '2025-02-21T01:38:25.620215'}] count=None\n",
      "🟢 Chatbot response language: English\n",
      "🟢 Chatbot raw response: I'm here to help! How can I assist you today?\n",
      "Supabase API Response: data=[{'id': '75549bbd-fefc-4d71-9206-b1bef95de57a', 'session_id': 'chat_1', 'user_id': 'NULL', 'message': \"I'm here to help! How can I assist you today?\", 'role': 'assistant', 'timestamp': '2025-02-21T01:38:27.628388'}] count=None\n",
      "🟢 Current session language: English\n",
      "Supabase API Response: data=[{'id': '76e57948-5387-4ceb-841c-bc3c9c35e429', 'session_id': 'chat_1', 'user_id': 'NULL', 'message': 'Message 14: This is a long conversation testing memory management.', 'role': 'user', 'timestamp': '2025-02-21T01:38:27.680874'}] count=None\n",
      "🟢 Chatbot response language: English\n",
      "🟢 Chatbot raw response: I'm here to help! How can I assist you today?\n",
      "Supabase API Response: data=[{'id': '1edc07b6-1202-46b8-b3a7-99edf6ea04b1', 'session_id': 'chat_1', 'user_id': 'NULL', 'message': \"I'm here to help! How can I assist you today?\", 'role': 'assistant', 'timestamp': '2025-02-21T01:38:29.74181'}] count=None\n",
      "🟢 Current session language: English\n",
      "Supabase API Response: data=[{'id': '0cd8143c-11d3-4359-a428-5d1af14d3b3d', 'session_id': 'chat_1', 'user_id': 'NULL', 'message': 'Message 15: This is a long conversation testing memory management.', 'role': 'user', 'timestamp': '2025-02-21T01:38:29.799025'}] count=None\n",
      "🟢 Chatbot response language: English\n",
      "🟢 Chatbot raw response: I'm here to help! How can I assist you today?\n",
      "Supabase API Response: data=[{'id': 'b9bc3cfa-bf31-4af2-9b2c-d204ae82d99c', 'session_id': 'chat_1', 'user_id': 'NULL', 'message': \"I'm here to help! How can I assist you today?\", 'role': 'assistant', 'timestamp': '2025-02-21T01:38:32.074294'}] count=None\n",
      "🟢 Current session language: English\n",
      "Supabase API Response: data=[{'id': '28f1af00-9e93-47de-af76-bf1b9b050349', 'session_id': 'chat_1', 'user_id': 'NULL', 'message': 'Message 16: This is a long conversation testing memory management.', 'role': 'user', 'timestamp': '2025-02-21T01:38:32.136109'}] count=None\n",
      "🟢 Chatbot response language: English\n",
      "🟢 Chatbot raw response: I'm here to help! How can I assist you today?\n",
      "Supabase API Response: data=[{'id': 'a6d1b7c3-2ab1-4669-af26-374a124029ba', 'session_id': 'chat_1', 'user_id': 'NULL', 'message': \"I'm here to help! How can I assist you today?\", 'role': 'assistant', 'timestamp': '2025-02-21T01:38:34.242395'}] count=None\n",
      "🟢 Current session language: English\n",
      "Supabase API Response: data=[{'id': '842e4fa5-84cb-48bf-ab97-ccb61e895f39', 'session_id': 'chat_1', 'user_id': 'NULL', 'message': 'Message 17: This is a long conversation testing memory management.', 'role': 'user', 'timestamp': '2025-02-21T01:38:34.300717'}] count=None\n",
      "🟢 Chatbot response language: English\n",
      "🟢 Chatbot raw response: I'm here to help! How can I assist you today?\n",
      "Supabase API Response: data=[{'id': '5d37f308-067e-4333-b9e4-832ffcfaa5d9', 'session_id': 'chat_1', 'user_id': 'NULL', 'message': \"I'm here to help! How can I assist you today?\", 'role': 'assistant', 'timestamp': '2025-02-21T01:38:36.503901'}] count=None\n",
      "🟢 Current session language: English\n",
      "Supabase API Response: data=[{'id': '0bfc05d1-8dee-47f3-b109-24522a43ab14', 'session_id': 'chat_1', 'user_id': 'NULL', 'message': 'Message 18: This is a long conversation testing memory management.', 'role': 'user', 'timestamp': '2025-02-21T01:38:36.562877'}] count=None\n",
      "🟢 Chatbot response language: English\n",
      "🟢 Chatbot raw response: I'm here to help! How can I assist you today?\n",
      "Supabase API Response: data=[{'id': 'b31e2c02-108e-48dc-b630-a9d8cbba2f06', 'session_id': 'chat_1', 'user_id': 'NULL', 'message': \"I'm here to help! How can I assist you today?\", 'role': 'assistant', 'timestamp': '2025-02-21T01:38:38.756478'}] count=None\n",
      "🟢 Current session language: English\n",
      "Supabase API Response: data=[{'id': '1f26362d-e39d-479b-836e-feab95ead93a', 'session_id': 'chat_1', 'user_id': 'NULL', 'message': 'Message 19: This is a long conversation testing memory management.', 'role': 'user', 'timestamp': '2025-02-21T01:38:38.811439'}] count=None\n",
      "🟢 Chatbot response language: English\n",
      "🟢 Chatbot raw response: I'm here to help! How can I assist you today?\n",
      "Supabase API Response: data=[{'id': 'e877da09-6c4a-4cef-b7f2-bb56e182806b', 'session_id': 'chat_1', 'user_id': 'NULL', 'message': \"I'm here to help! How can I assist you today?\", 'role': 'assistant', 'timestamp': '2025-02-21T01:38:40.828779'}] count=None\n",
      "🟢 Current session language: English\n",
      "Supabase API Response: data=[{'id': '1890c25a-8336-44e2-8aec-127574a9ce75', 'session_id': 'chat_1', 'user_id': 'NULL', 'message': 'Message 20: This is a long conversation testing memory management.', 'role': 'user', 'timestamp': '2025-02-21T01:38:40.884054'}] count=None\n",
      "🟢 Chatbot response language: English\n",
      "🟢 Chatbot raw response: I'm here to help! How can I assist you today?\n",
      "Supabase API Response: data=[{'id': 'f341d92f-501b-433e-a3e3-b0d6c8c5c8d0', 'session_id': 'chat_1', 'user_id': 'NULL', 'message': \"I'm here to help! How can I assist you today?\", 'role': 'assistant', 'timestamp': '2025-02-21T01:38:43.053588'}] count=None\n",
      "🟢 Current session language: English\n",
      "Supabase API Response: data=[{'id': '7c793df8-10dd-4568-932d-5996cd155680', 'session_id': 'chat_1', 'user_id': 'NULL', 'message': 'What is my first message?', 'role': 'user', 'timestamp': '2025-02-21T01:38:43.107645'}] count=None\n",
      "🟢 Chatbot response language: English\n",
      "🟢 Chatbot raw response: Your first message is: \"Message 1: This is a long conversation testing memory management.\"\n",
      "Supabase API Response: data=[{'id': '4cf7d7f0-9810-4ed4-8c8e-1478c8c97dbb', 'session_id': 'chat_1', 'user_id': 'NULL', 'message': 'Your first message is: \"Message 1: This is a long conversation testing memory management.\"', 'role': 'assistant', 'timestamp': '2025-02-21T01:38:45.195368'}] count=None\n",
      "Final Response After Trimming: Your first message is: \"Message 1: This is a long conversation testing memory management.\"\n"
     ]
    }
   ],
   "source": [
    "for i in range(20):  # ✅ Send multiple messages to trigger trimming\n",
    "    response = invoke_with_language(\n",
    "        session_id=\"chat_1\",\n",
    "        messages=[HumanMessage(content=f\"Message {i+1}: This is a long conversation testing memory management.\")],\n",
    "        language=\"English\"\n",
    "    )\n",
    "\n",
    "response = invoke_with_language(\n",
    "    session_id=\"chat_1\",\n",
    "    messages=[HumanMessage(content=\"What is my first message?\")],\n",
    "    language=\"English\"\n",
    ")\n",
    "\n",
    "print(\"Final Response After Trimming:\", response.content)  # ✅ Bot should not recall old messages\n"
   ]
  },
  {
   "cell_type": "code",
   "execution_count": null,
   "metadata": {},
   "outputs": [],
   "source": []
  },
  {
   "cell_type": "code",
   "execution_count": null,
   "metadata": {},
   "outputs": [],
   "source": []
  }
 ],
 "metadata": {
  "kernelspec": {
   "display_name": "base",
   "language": "python",
   "name": "python3"
  },
  "language_info": {
   "codemirror_mode": {
    "name": "ipython",
    "version": 3
   },
   "file_extension": ".py",
   "mimetype": "text/x-python",
   "name": "python",
   "nbconvert_exporter": "python",
   "pygments_lexer": "ipython3",
   "version": "3.12.2"
  }
 },
 "nbformat": 4,
 "nbformat_minor": 2
}
